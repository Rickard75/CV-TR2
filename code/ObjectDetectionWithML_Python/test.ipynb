{
 "cells": [
  {
   "cell_type": "code",
   "execution_count": null,
   "id": "271db2cf",
   "metadata": {},
   "outputs": [],
   "source": [
    "print(\"Hello Machine Learning World!\")"
   ]
  }
 ],
 "metadata": {
  "language_info": {
   "name": "python"
  }
 },
 "nbformat": 4,
 "nbformat_minor": 5
}
